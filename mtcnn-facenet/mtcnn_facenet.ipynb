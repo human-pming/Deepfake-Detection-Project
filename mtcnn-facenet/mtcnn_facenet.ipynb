{
  "nbformat": 4,
  "nbformat_minor": 0,
  "metadata": {
    "colab": {
      "name": "mtcnn-facenet",
      "provenance": []
    },
    "kernelspec": {
      "name": "python3",
      "display_name": "Python 3"
    },
    "language_info": {
      "name": "python"
    },
    "accelerator": "GPU"
  },
  "cells": [
    {
      "cell_type": "code",
      "source": [
        "from google.colab import drive\n",
        "drive.mount('/content/drive')"
      ],
      "metadata": {
        "id": "FXsVldT_7Q43",
        "colab": {
          "base_uri": "https://localhost:8080/"
        },
        "outputId": "7a22d893-8353-40df-f4f7-de02d9cf216d"
      },
      "execution_count": null,
      "outputs": [
        {
          "output_type": "stream",
          "name": "stdout",
          "text": [
            "Drive already mounted at /content/drive; to attempt to forcibly remount, call drive.mount(\"/content/drive\", force_remount=True).\n"
          ]
        }
      ]
    },
    {
      "cell_type": "code",
      "source": [
        "!git clone https://github.com/ipazc/mtcnn.git"
      ],
      "metadata": {
        "colab": {
          "base_uri": "https://localhost:8080/"
        },
        "id": "R19gzYZNQhUq",
        "outputId": "2befdf55-da31-4196-b004-29e76555877f"
      },
      "execution_count": null,
      "outputs": [
        {
          "output_type": "stream",
          "name": "stdout",
          "text": [
            "fatal: destination path 'mtcnn' already exists and is not an empty directory.\n"
          ]
        }
      ]
    },
    {
      "cell_type": "code",
      "source": [
        "cd  \"FileName\""
      ],
      "metadata": {
        "id": "TlIgVw7R64EH",
        "colab": {
          "base_uri": "https://localhost:8080/"
        },
        "outputId": "f333e72b-a618-444d-a9b9-d87c5b6555f9"
      },
      "execution_count": null,
      "outputs": [
        {
          "output_type": "stream",
          "name": "stdout",
          "text": [
            "/content/drive/MyDrive/휴먼프밍3조\n"
          ]
        }
      ]
    },
    {
      "cell_type": "code",
      "source": [
        "!pip install mtcnn"
      ],
      "metadata": {
        "colab": {
          "base_uri": "https://localhost:8080/"
        },
        "id": "zdrdr-i9LyM0",
        "outputId": "5fe0f109-a2fa-4fcd-8b52-7e85cc9643b5"
      },
      "execution_count": null,
      "outputs": [
        {
          "output_type": "stream",
          "name": "stdout",
          "text": [
            "Looking in indexes: https://pypi.org/simple, https://us-python.pkg.dev/colab-wheels/public/simple/\n",
            "Requirement already satisfied: mtcnn in /usr/local/lib/python3.7/dist-packages (0.1.1)\n",
            "Requirement already satisfied: opencv-python>=4.1.0 in /usr/local/lib/python3.7/dist-packages (from mtcnn) (4.1.2.30)\n",
            "Requirement already satisfied: keras>=2.0.0 in /usr/local/lib/python3.7/dist-packages (from mtcnn) (2.8.0)\n",
            "Requirement already satisfied: numpy>=1.14.5 in /usr/local/lib/python3.7/dist-packages (from opencv-python>=4.1.0->mtcnn) (1.21.6)\n"
          ]
        }
      ]
    },
    {
      "cell_type": "code",
      "source": [
        "!pip install tensorflow"
      ],
      "metadata": {
        "id": "GTf08PS8E093",
        "colab": {
          "base_uri": "https://localhost:8080/"
        },
        "outputId": "6d3a5568-5560-4881-baa8-6171cba31134"
      },
      "execution_count": null,
      "outputs": [
        {
          "output_type": "stream",
          "name": "stdout",
          "text": [
            "Looking in indexes: https://pypi.org/simple, https://us-python.pkg.dev/colab-wheels/public/simple/\n",
            "Requirement already satisfied: tensorflow in /usr/local/lib/python3.7/dist-packages (2.8.0+zzzcolab20220506162203)\n",
            "Requirement already satisfied: gast>=0.2.1 in /usr/local/lib/python3.7/dist-packages (from tensorflow) (0.5.3)\n",
            "Requirement already satisfied: tensorboard<2.9,>=2.8 in /usr/local/lib/python3.7/dist-packages (from tensorflow) (2.8.0)\n",
            "Requirement already satisfied: google-pasta>=0.1.1 in /usr/local/lib/python3.7/dist-packages (from tensorflow) (0.2.0)\n",
            "Requirement already satisfied: keras<2.9,>=2.8.0rc0 in /usr/local/lib/python3.7/dist-packages (from tensorflow) (2.8.0)\n",
            "Requirement already satisfied: absl-py>=0.4.0 in /usr/local/lib/python3.7/dist-packages (from tensorflow) (1.0.0)\n",
            "Requirement already satisfied: typing-extensions>=3.6.6 in /usr/local/lib/python3.7/dist-packages (from tensorflow) (4.2.0)\n",
            "Requirement already satisfied: astunparse>=1.6.0 in /usr/local/lib/python3.7/dist-packages (from tensorflow) (1.6.3)\n",
            "Requirement already satisfied: flatbuffers>=1.12 in /usr/local/lib/python3.7/dist-packages (from tensorflow) (2.0)\n",
            "Requirement already satisfied: grpcio<2.0,>=1.24.3 in /usr/local/lib/python3.7/dist-packages (from tensorflow) (1.46.1)\n",
            "Requirement already satisfied: h5py>=2.9.0 in /usr/local/lib/python3.7/dist-packages (from tensorflow) (3.1.0)\n",
            "Requirement already satisfied: protobuf>=3.9.2 in /usr/local/lib/python3.7/dist-packages (from tensorflow) (3.17.3)\n",
            "Requirement already satisfied: opt-einsum>=2.3.2 in /usr/local/lib/python3.7/dist-packages (from tensorflow) (3.3.0)\n",
            "Requirement already satisfied: setuptools in /usr/local/lib/python3.7/dist-packages (from tensorflow) (57.4.0)\n",
            "Requirement already satisfied: tf-estimator-nightly==2.8.0.dev2021122109 in /usr/local/lib/python3.7/dist-packages (from tensorflow) (2.8.0.dev2021122109)\n",
            "Requirement already satisfied: wrapt>=1.11.0 in /usr/local/lib/python3.7/dist-packages (from tensorflow) (1.14.1)\n",
            "Requirement already satisfied: keras-preprocessing>=1.1.1 in /usr/local/lib/python3.7/dist-packages (from tensorflow) (1.1.2)\n",
            "Requirement already satisfied: termcolor>=1.1.0 in /usr/local/lib/python3.7/dist-packages (from tensorflow) (1.1.0)\n",
            "Requirement already satisfied: six>=1.12.0 in /usr/local/lib/python3.7/dist-packages (from tensorflow) (1.15.0)\n",
            "Requirement already satisfied: libclang>=9.0.1 in /usr/local/lib/python3.7/dist-packages (from tensorflow) (14.0.1)\n",
            "Requirement already satisfied: tensorflow-io-gcs-filesystem>=0.23.1 in /usr/local/lib/python3.7/dist-packages (from tensorflow) (0.26.0)\n",
            "Requirement already satisfied: numpy>=1.20 in /usr/local/lib/python3.7/dist-packages (from tensorflow) (1.21.6)\n",
            "Requirement already satisfied: wheel<1.0,>=0.23.0 in /usr/local/lib/python3.7/dist-packages (from astunparse>=1.6.0->tensorflow) (0.37.1)\n",
            "Requirement already satisfied: cached-property in /usr/local/lib/python3.7/dist-packages (from h5py>=2.9.0->tensorflow) (1.5.2)\n",
            "Requirement already satisfied: requests<3,>=2.21.0 in /usr/local/lib/python3.7/dist-packages (from tensorboard<2.9,>=2.8->tensorflow) (2.23.0)\n",
            "Requirement already satisfied: google-auth<3,>=1.6.3 in /usr/local/lib/python3.7/dist-packages (from tensorboard<2.9,>=2.8->tensorflow) (1.35.0)\n",
            "Requirement already satisfied: tensorboard-plugin-wit>=1.6.0 in /usr/local/lib/python3.7/dist-packages (from tensorboard<2.9,>=2.8->tensorflow) (1.8.1)\n",
            "Requirement already satisfied: werkzeug>=0.11.15 in /usr/local/lib/python3.7/dist-packages (from tensorboard<2.9,>=2.8->tensorflow) (1.0.1)\n",
            "Requirement already satisfied: tensorboard-data-server<0.7.0,>=0.6.0 in /usr/local/lib/python3.7/dist-packages (from tensorboard<2.9,>=2.8->tensorflow) (0.6.1)\n",
            "Requirement already satisfied: google-auth-oauthlib<0.5,>=0.4.1 in /usr/local/lib/python3.7/dist-packages (from tensorboard<2.9,>=2.8->tensorflow) (0.4.6)\n",
            "Requirement already satisfied: markdown>=2.6.8 in /usr/local/lib/python3.7/dist-packages (from tensorboard<2.9,>=2.8->tensorflow) (3.3.7)\n",
            "Requirement already satisfied: rsa<5,>=3.1.4 in /usr/local/lib/python3.7/dist-packages (from google-auth<3,>=1.6.3->tensorboard<2.9,>=2.8->tensorflow) (4.8)\n",
            "Requirement already satisfied: cachetools<5.0,>=2.0.0 in /usr/local/lib/python3.7/dist-packages (from google-auth<3,>=1.6.3->tensorboard<2.9,>=2.8->tensorflow) (4.2.4)\n",
            "Requirement already satisfied: pyasn1-modules>=0.2.1 in /usr/local/lib/python3.7/dist-packages (from google-auth<3,>=1.6.3->tensorboard<2.9,>=2.8->tensorflow) (0.2.8)\n",
            "Requirement already satisfied: requests-oauthlib>=0.7.0 in /usr/local/lib/python3.7/dist-packages (from google-auth-oauthlib<0.5,>=0.4.1->tensorboard<2.9,>=2.8->tensorflow) (1.3.1)\n",
            "Requirement already satisfied: importlib-metadata>=4.4 in /usr/local/lib/python3.7/dist-packages (from markdown>=2.6.8->tensorboard<2.9,>=2.8->tensorflow) (4.11.3)\n",
            "Requirement already satisfied: zipp>=0.5 in /usr/local/lib/python3.7/dist-packages (from importlib-metadata>=4.4->markdown>=2.6.8->tensorboard<2.9,>=2.8->tensorflow) (3.8.0)\n",
            "Requirement already satisfied: pyasn1<0.5.0,>=0.4.6 in /usr/local/lib/python3.7/dist-packages (from pyasn1-modules>=0.2.1->google-auth<3,>=1.6.3->tensorboard<2.9,>=2.8->tensorflow) (0.4.8)\n",
            "Requirement already satisfied: idna<3,>=2.5 in /usr/local/lib/python3.7/dist-packages (from requests<3,>=2.21.0->tensorboard<2.9,>=2.8->tensorflow) (2.10)\n",
            "Requirement already satisfied: certifi>=2017.4.17 in /usr/local/lib/python3.7/dist-packages (from requests<3,>=2.21.0->tensorboard<2.9,>=2.8->tensorflow) (2022.5.18.1)\n",
            "Requirement already satisfied: chardet<4,>=3.0.2 in /usr/local/lib/python3.7/dist-packages (from requests<3,>=2.21.0->tensorboard<2.9,>=2.8->tensorflow) (3.0.4)\n",
            "Requirement already satisfied: urllib3!=1.25.0,!=1.25.1,<1.26,>=1.21.1 in /usr/local/lib/python3.7/dist-packages (from requests<3,>=2.21.0->tensorboard<2.9,>=2.8->tensorflow) (1.24.3)\n",
            "Requirement already satisfied: oauthlib>=3.0.0 in /usr/local/lib/python3.7/dist-packages (from requests-oauthlib>=0.7.0->google-auth-oauthlib<0.5,>=0.4.1->tensorboard<2.9,>=2.8->tensorflow) (3.2.0)\n"
          ]
        }
      ]
    },
    {
      "cell_type": "code",
      "source": [
        "!pip3 install keras "
      ],
      "metadata": {
        "id": "8YEkt7_A5rW6",
        "colab": {
          "base_uri": "https://localhost:8080/"
        },
        "outputId": "64c1bd64-6c48-4166-869d-7dbf6080c50d"
      },
      "execution_count": null,
      "outputs": [
        {
          "output_type": "stream",
          "name": "stdout",
          "text": [
            "Looking in indexes: https://pypi.org/simple, https://us-python.pkg.dev/colab-wheels/public/simple/\n",
            "Requirement already satisfied: keras in /usr/local/lib/python3.7/dist-packages (2.8.0)\n"
          ]
        }
      ]
    },
    {
      "cell_type": "code",
      "source": [
        "!pip3 install Pillow numpy opencv-python matplotlib sklearn"
      ],
      "metadata": {
        "id": "9tbyMVpT8T3A",
        "colab": {
          "base_uri": "https://localhost:8080/"
        },
        "outputId": "86151644-434b-4a26-e65a-e953f5e07a2b"
      },
      "execution_count": null,
      "outputs": [
        {
          "output_type": "stream",
          "name": "stdout",
          "text": [
            "Looking in indexes: https://pypi.org/simple, https://us-python.pkg.dev/colab-wheels/public/simple/\n",
            "Requirement already satisfied: Pillow in /usr/local/lib/python3.7/dist-packages (7.1.2)\n",
            "Requirement already satisfied: numpy in /usr/local/lib/python3.7/dist-packages (1.21.6)\n",
            "Requirement already satisfied: opencv-python in /usr/local/lib/python3.7/dist-packages (4.1.2.30)\n",
            "Requirement already satisfied: matplotlib in /usr/local/lib/python3.7/dist-packages (3.2.2)\n",
            "Requirement already satisfied: sklearn in /usr/local/lib/python3.7/dist-packages (0.0)\n",
            "Requirement already satisfied: cycler>=0.10 in /usr/local/lib/python3.7/dist-packages (from matplotlib) (0.11.0)\n",
            "Requirement already satisfied: python-dateutil>=2.1 in /usr/local/lib/python3.7/dist-packages (from matplotlib) (2.8.2)\n",
            "Requirement already satisfied: kiwisolver>=1.0.1 in /usr/local/lib/python3.7/dist-packages (from matplotlib) (1.4.2)\n",
            "Requirement already satisfied: pyparsing!=2.0.4,!=2.1.2,!=2.1.6,>=2.0.1 in /usr/local/lib/python3.7/dist-packages (from matplotlib) (3.0.9)\n",
            "Requirement already satisfied: typing-extensions in /usr/local/lib/python3.7/dist-packages (from kiwisolver>=1.0.1->matplotlib) (4.2.0)\n",
            "Requirement already satisfied: six>=1.5 in /usr/local/lib/python3.7/dist-packages (from python-dateutil>=2.1->matplotlib) (1.15.0)\n",
            "Requirement already satisfied: scikit-learn in /usr/local/lib/python3.7/dist-packages (from sklearn) (1.0.2)\n",
            "Requirement already satisfied: threadpoolctl>=2.0.0 in /usr/local/lib/python3.7/dist-packages (from scikit-learn->sklearn) (3.1.0)\n",
            "Requirement already satisfied: scipy>=1.1.0 in /usr/local/lib/python3.7/dist-packages (from scikit-learn->sklearn) (1.4.1)\n",
            "Requirement already satisfied: joblib>=0.11 in /usr/local/lib/python3.7/dist-packages (from scikit-learn->sklearn) (1.1.0)\n"
          ]
        }
      ]
    },
    {
      "cell_type": "code",
      "source": [
        "from mtcnn import MTCNN"
      ],
      "metadata": {
        "id": "oG1B5LofQv8p"
      },
      "execution_count": null,
      "outputs": []
    },
    {
      "cell_type": "code",
      "source": [
        "# 케라스 FaceNet 모델 로드 예시\n",
        "from keras.models import load_model\n",
        "# 모델 불러오기\n",
        "model = load_model('FileName')\n",
        "# 입력과 출력 배열 형태 요약\n",
        "print(model.inputs)\n",
        "print(model.outputs)"
      ],
      "metadata": {
        "id": "wuio3Lg758Ax",
        "colab": {
          "base_uri": "https://localhost:8080/"
        },
        "outputId": "a0c115c4-df5f-4458-9f36-bc5d2be10bbb"
      },
      "execution_count": null,
      "outputs": [
        {
          "output_type": "stream",
          "name": "stdout",
          "text": [
            "WARNING:tensorflow:No training configuration found in the save file, so the model was *not* compiled. Compile it manually.\n",
            "[<KerasTensor: shape=(None, 160, 160, 3) dtype=float32 (created by layer 'input_1')>]\n",
            "[<KerasTensor: shape=(None, 128) dtype=float32 (created by layer 'Bottleneck_BatchNorm')>]\n"
          ]
        }
      ]
    },
    {
      "cell_type": "code",
      "source": [
        "import mtcnn\n",
        "# mtcnn으로 얼굴을 감지하는 함수\n",
        "from PIL import Image\n",
        "from numpy import asarray,savez_compressed\n",
        "import numpy\n",
        "from mtcnn.mtcnn import MTCNN\n",
        "#print(mtcnn.__version__)\n",
        "import os\n",
        "import matplotlib.pyplot as plt\n",
        "import random"
      ],
      "metadata": {
        "id": "hvK74NiQ8NKG"
      },
      "execution_count": null,
      "outputs": []
    },
    {
      "cell_type": "markdown",
      "source": [
        "데이터 확인"
      ],
      "metadata": {
        "id": "FeqN6AnUWbzw"
      }
    },
    {
      "cell_type": "code",
      "source": [
        "fake_folder = 'FileName/fake/'\n",
        "real_folder = 'FileName/real/'\n",
        "print( \"fake 데이터셋 개수 : \",len(os.listdir(fake_folder)),\"real 데이터셋 개수 : \",len(os.listdir(real_folder)))"
      ],
      "metadata": {
        "colab": {
          "base_uri": "https://localhost:8080/"
        },
        "id": "n9mAVJFmWdtt",
        "outputId": "3eda7ead-e2ed-4286-d403-275015a996db"
      },
      "execution_count": null,
      "outputs": [
        {
          "output_type": "stream",
          "name": "stdout",
          "text": [
            "fake 데이터셋 개수 :  252 real 데이터셋 개수 :  56\n"
          ]
        }
      ]
    },
    {
      "cell_type": "code",
      "source": [
        "def extract_face(filename, required_size=(160, 160)):\n",
        "\t# 파일에서 이미지 불러오기\n",
        "\timage = Image.open(filename)\n",
        "\t# RGB로 변환, 필요시\n",
        "\timage = image.convert('RGB')\n",
        "\t# 배열로 변환\n",
        "\tpixels = asarray(image)\n",
        "\t# 감지기 생성, 기본 가중치 이용\n",
        "\tdetector = MTCNN()\n",
        "\t# 이미지에서 얼굴 감지\n",
        "\tresults = detector.detect_faces(pixels)\n",
        "\t# 첫 번째 얼굴에서 경계 상자 추출\n",
        "\tx1, y1, width, height = results[0]['box']\n",
        "\t# 버그 수정\n",
        "\tx1, y1 = abs(x1), abs(y1)\n",
        "\tx2, y2 = x1 + width, y1 + height\n",
        "\t# 얼굴 추출\n",
        "\tface = pixels[y1:y2, x1:x2]\n",
        "\t# 모델 사이즈로 픽셀 재조정\n",
        "\timage = Image.fromarray(face)\n",
        "\timage = image.resize(required_size)\n",
        "\tface_array = asarray(image)\n",
        "\treturn face_array\n"
      ],
      "metadata": {
        "id": "LRFFFFpHRCRn"
      },
      "execution_count": null,
      "outputs": []
    },
    {
      "cell_type": "markdown",
      "source": [
        "폴더를 플롯으로 구체화하기"
      ],
      "metadata": {
        "id": "4_g4VtD-Ixvu"
      }
    },
    {
      "cell_type": "code",
      "source": [
        "folder = 'FileName/fake/'\n",
        "i = 1\n",
        "errorList = []\n",
        "# 파일 열거\n",
        "for filename in os.listdir(folder):\n",
        "\t# 경로\n",
        "\tpath = folder + filename\n",
        "\t# 얼굴 추출\n",
        "\ttry:\n",
        "\t\tface = extract_face(path)\n",
        "\t\tprint(i, face.shape)\n",
        "\texcept:\n",
        "\t\terrorList.append(filename)\n",
        "\n",
        "\ti += 1\n"
      ],
      "metadata": {
        "id": "dkg1BrHeJGsn",
        "colab": {
          "base_uri": "https://localhost:8080/"
        },
        "outputId": "54fc53b9-7fbc-436b-9d3f-f67cf88f9a06"
      },
      "execution_count": null,
      "outputs": [
        {
          "output_type": "stream",
          "name": "stdout",
          "text": [
            "1 (160, 160, 3)\n",
            "WARNING:tensorflow:5 out of the last 14 calls to <function Model.make_predict_function.<locals>.predict_function at 0x7f5dccf61a70> triggered tf.function retracing. Tracing is expensive and the excessive number of tracings could be due to (1) creating @tf.function repeatedly in a loop, (2) passing tensors with different shapes, (3) passing Python objects instead of tensors. For (1), please define your @tf.function outside of the loop. For (2), @tf.function has experimental_relax_shapes=True option that relaxes argument shapes that can avoid unnecessary retracing. For (3), please refer to https://www.tensorflow.org/guide/function#controlling_retracing and https://www.tensorflow.org/api_docs/python/tf/function for  more details.\n",
            "2 (160, 160, 3)\n",
            "WARNING:tensorflow:5 out of the last 14 calls to <function Model.make_predict_function.<locals>.predict_function at 0x7f5dccf61d40> triggered tf.function retracing. Tracing is expensive and the excessive number of tracings could be due to (1) creating @tf.function repeatedly in a loop, (2) passing tensors with different shapes, (3) passing Python objects instead of tensors. For (1), please define your @tf.function outside of the loop. For (2), @tf.function has experimental_relax_shapes=True option that relaxes argument shapes that can avoid unnecessary retracing. For (3), please refer to https://www.tensorflow.org/guide/function#controlling_retracing and https://www.tensorflow.org/api_docs/python/tf/function for  more details.\n",
            "3 (160, 160, 3)\n",
            "4 (160, 160, 3)\n",
            "5 (160, 160, 3)\n",
            "6 (160, 160, 3)\n",
            "7 (160, 160, 3)\n",
            "8 (160, 160, 3)\n",
            "9 (160, 160, 3)\n",
            "10 (160, 160, 3)\n",
            "11 (160, 160, 3)\n",
            "12 (160, 160, 3)\n",
            "13 (160, 160, 3)\n",
            "14 (160, 160, 3)\n",
            "15 (160, 160, 3)\n",
            "16 (160, 160, 3)\n",
            "17 (160, 160, 3)\n",
            "18 (160, 160, 3)\n",
            "19 (160, 160, 3)\n",
            "20 (160, 160, 3)\n",
            "21 (160, 160, 3)\n",
            "22 (160, 160, 3)\n",
            "23 (160, 160, 3)\n",
            "24 (160, 160, 3)\n",
            "25 (160, 160, 3)\n",
            "26 (160, 160, 3)\n",
            "27 (160, 160, 3)\n",
            "28 (160, 160, 3)\n",
            "29 (160, 160, 3)\n",
            "30 (160, 160, 3)\n",
            "31 (160, 160, 3)\n",
            "32 (160, 160, 3)\n",
            "33 (160, 160, 3)\n",
            "34 (160, 160, 3)\n",
            "35 (160, 160, 3)\n",
            "36 (160, 160, 3)\n",
            "37 (160, 160, 3)\n",
            "38 (160, 160, 3)\n",
            "39 (160, 160, 3)\n",
            "40 (160, 160, 3)\n",
            "41 (160, 160, 3)\n",
            "42 (160, 160, 3)\n",
            "43 (160, 160, 3)\n",
            "44 (160, 160, 3)\n",
            "45 (160, 160, 3)\n",
            "46 (160, 160, 3)\n",
            "47 (160, 160, 3)\n",
            "48 (160, 160, 3)\n",
            "49 (160, 160, 3)\n",
            "50 (160, 160, 3)\n",
            "51 (160, 160, 3)\n",
            "52 (160, 160, 3)\n",
            "53 (160, 160, 3)\n",
            "54 (160, 160, 3)\n",
            "55 (160, 160, 3)\n",
            "56 (160, 160, 3)\n",
            "57 (160, 160, 3)\n",
            "58 (160, 160, 3)\n",
            "59 (160, 160, 3)\n",
            "60 (160, 160, 3)\n",
            "61 (160, 160, 3)\n",
            "62 (160, 160, 3)\n",
            "63 (160, 160, 3)\n",
            "64 (160, 160, 3)\n",
            "65 (160, 160, 3)\n",
            "66 (160, 160, 3)\n",
            "67 (160, 160, 3)\n",
            "68 (160, 160, 3)\n",
            "69 (160, 160, 3)\n",
            "70 (160, 160, 3)\n",
            "71 (160, 160, 3)\n",
            "72 (160, 160, 3)\n",
            "73 (160, 160, 3)\n",
            "74 (160, 160, 3)\n",
            "75 (160, 160, 3)\n",
            "76 (160, 160, 3)\n",
            "77 (160, 160, 3)\n",
            "78 (160, 160, 3)\n",
            "79 (160, 160, 3)\n",
            "80 (160, 160, 3)\n",
            "81 (160, 160, 3)\n",
            "82 (160, 160, 3)\n",
            "83 (160, 160, 3)\n",
            "84 (160, 160, 3)\n",
            "85 (160, 160, 3)\n",
            "86 (160, 160, 3)\n",
            "87 (160, 160, 3)\n",
            "88 (160, 160, 3)\n",
            "89 (160, 160, 3)\n",
            "90 (160, 160, 3)\n",
            "91 (160, 160, 3)\n",
            "92 (160, 160, 3)\n",
            "93 (160, 160, 3)\n",
            "94 (160, 160, 3)\n",
            "95 (160, 160, 3)\n",
            "96 (160, 160, 3)\n",
            "97 (160, 160, 3)\n",
            "98 (160, 160, 3)\n",
            "99 (160, 160, 3)\n",
            "100 (160, 160, 3)\n",
            "101 (160, 160, 3)\n",
            "102 (160, 160, 3)\n",
            "103 (160, 160, 3)\n",
            "104 (160, 160, 3)\n",
            "105 (160, 160, 3)\n",
            "106 (160, 160, 3)\n",
            "107 (160, 160, 3)\n",
            "108 (160, 160, 3)\n",
            "109 (160, 160, 3)\n",
            "110 (160, 160, 3)\n",
            "111 (160, 160, 3)\n",
            "112 (160, 160, 3)\n",
            "113 (160, 160, 3)\n",
            "114 (160, 160, 3)\n",
            "115 (160, 160, 3)\n",
            "116 (160, 160, 3)\n",
            "117 (160, 160, 3)\n",
            "118 (160, 160, 3)\n",
            "119 (160, 160, 3)\n",
            "120 (160, 160, 3)\n",
            "121 (160, 160, 3)\n",
            "122 (160, 160, 3)\n",
            "123 (160, 160, 3)\n",
            "124 (160, 160, 3)\n",
            "125 (160, 160, 3)\n",
            "126 (160, 160, 3)\n",
            "127 (160, 160, 3)\n",
            "128 (160, 160, 3)\n",
            "129 (160, 160, 3)\n",
            "130 (160, 160, 3)\n",
            "131 (160, 160, 3)\n",
            "132 (160, 160, 3)\n",
            "133 (160, 160, 3)\n",
            "134 (160, 160, 3)\n",
            "135 (160, 160, 3)\n",
            "136 (160, 160, 3)\n",
            "137 (160, 160, 3)\n",
            "138 (160, 160, 3)\n",
            "139 (160, 160, 3)\n",
            "140 (160, 160, 3)\n",
            "141 (160, 160, 3)\n",
            "142 (160, 160, 3)\n",
            "143 (160, 160, 3)\n",
            "144 (160, 160, 3)\n",
            "145 (160, 160, 3)\n",
            "146 (160, 160, 3)\n",
            "147 (160, 160, 3)\n",
            "148 (160, 160, 3)\n",
            "149 (160, 160, 3)\n",
            "150 (160, 160, 3)\n",
            "151 (160, 160, 3)\n",
            "152 (160, 160, 3)\n",
            "153 (160, 160, 3)\n",
            "154 (160, 160, 3)\n",
            "155 (160, 160, 3)\n",
            "156 (160, 160, 3)\n",
            "157 (160, 160, 3)\n",
            "158 (160, 160, 3)\n",
            "159 (160, 160, 3)\n",
            "160 (160, 160, 3)\n",
            "161 (160, 160, 3)\n",
            "162 (160, 160, 3)\n",
            "163 (160, 160, 3)\n",
            "164 (160, 160, 3)\n",
            "165 (160, 160, 3)\n",
            "166 (160, 160, 3)\n",
            "167 (160, 160, 3)\n",
            "168 (160, 160, 3)\n",
            "169 (160, 160, 3)\n",
            "170 (160, 160, 3)\n",
            "171 (160, 160, 3)\n",
            "172 (160, 160, 3)\n",
            "173 (160, 160, 3)\n",
            "174 (160, 160, 3)\n",
            "175 (160, 160, 3)\n",
            "176 (160, 160, 3)\n",
            "177 (160, 160, 3)\n",
            "178 (160, 160, 3)\n",
            "179 (160, 160, 3)\n",
            "180 (160, 160, 3)\n",
            "181 (160, 160, 3)\n",
            "182 (160, 160, 3)\n",
            "183 (160, 160, 3)\n",
            "184 (160, 160, 3)\n",
            "185 (160, 160, 3)\n",
            "186 (160, 160, 3)\n",
            "187 (160, 160, 3)\n",
            "188 (160, 160, 3)\n",
            "189 (160, 160, 3)\n",
            "190 (160, 160, 3)\n",
            "191 (160, 160, 3)\n",
            "192 (160, 160, 3)\n",
            "193 (160, 160, 3)\n",
            "194 (160, 160, 3)\n",
            "195 (160, 160, 3)\n",
            "196 (160, 160, 3)\n",
            "197 (160, 160, 3)\n",
            "198 (160, 160, 3)\n",
            "199 (160, 160, 3)\n",
            "200 (160, 160, 3)\n",
            "201 (160, 160, 3)\n",
            "202 (160, 160, 3)\n",
            "203 (160, 160, 3)\n",
            "204 (160, 160, 3)\n",
            "205 (160, 160, 3)\n",
            "206 (160, 160, 3)\n",
            "207 (160, 160, 3)\n",
            "208 (160, 160, 3)\n",
            "209 (160, 160, 3)\n",
            "210 (160, 160, 3)\n",
            "211 (160, 160, 3)\n",
            "212 (160, 160, 3)\n",
            "213 (160, 160, 3)\n",
            "214 (160, 160, 3)\n",
            "215 (160, 160, 3)\n",
            "216 (160, 160, 3)\n",
            "217 (160, 160, 3)\n",
            "218 (160, 160, 3)\n",
            "219 (160, 160, 3)\n",
            "220 (160, 160, 3)\n",
            "221 (160, 160, 3)\n",
            "222 (160, 160, 3)\n",
            "223 (160, 160, 3)\n",
            "224 (160, 160, 3)\n",
            "225 (160, 160, 3)\n",
            "226 (160, 160, 3)\n",
            "227 (160, 160, 3)\n",
            "228 (160, 160, 3)\n",
            "229 (160, 160, 3)\n",
            "230 (160, 160, 3)\n",
            "231 (160, 160, 3)\n",
            "232 (160, 160, 3)\n",
            "233 (160, 160, 3)\n",
            "234 (160, 160, 3)\n",
            "235 (160, 160, 3)\n",
            "236 (160, 160, 3)\n",
            "237 (160, 160, 3)\n",
            "238 (160, 160, 3)\n",
            "239 (160, 160, 3)\n",
            "240 (160, 160, 3)\n",
            "241 (160, 160, 3)\n",
            "242 (160, 160, 3)\n",
            "243 (160, 160, 3)\n",
            "244 (160, 160, 3)\n",
            "245 (160, 160, 3)\n",
            "246 (160, 160, 3)\n",
            "247 (160, 160, 3)\n",
            "248 (160, 160, 3)\n",
            "249 (160, 160, 3)\n",
            "250 (160, 160, 3)\n",
            "251 (160, 160, 3)\n",
            "252 (160, 160, 3)\n"
          ]
        }
      ]
    },
    {
      "cell_type": "code",
      "source": [
        "def load_faces(directory):\n",
        "\tfaces = list()\n",
        "\t# 파일 열거\n",
        "\tfor filename in os.listdir(directory):\n",
        "\t\t# 경로\n",
        "\t\tpath = directory + filename\n",
        "\t\t# 얼굴 추출\n",
        "\t\tface = extract_face(path)\n",
        "\t\t# 저장\n",
        "\t\tfaces.append(face)\n",
        "\treturn faces\n",
        "\n",
        "# 이미지를 포함하는 각 클래스에 대해 하나의 하위 디렉토리가 포함된 데이터셋을 불러오기\n",
        "def load_dataset(directory):\n",
        "\tX, y = list(), list()\n",
        "\t# 클래스별로 폴더 열거\n",
        "\tfor subdir in os.listdir(directory):\n",
        "\t\t# 경로\n",
        "\t\tpath = directory + subdir + '/'\n",
        "\t\t# 디렉토리에 있을 수 있는 파일을 건너뛰기(디렉토리가 아닌 파일)\n",
        "\t\tif not os.path.isdir(path):\n",
        "\t\t\tcontinue\n",
        "\t\t# 하위 디렉토리의 모든 얼굴 불러오기/ fake일때 real 개수와 맞춰주는 조건\n",
        "\t\tfaces = load_faces(path)\n",
        "\t\tif (subdir=='fake'):\n",
        "\t\t\torder = int(input('맞춰줄 값'))\n",
        "\t\t\tfaces = random.sample(faces, order)\n",
        "\t\t# 레이블 생성\n",
        "\t\tlabels = [subdir for _ in range(len(faces))]\n",
        "\t\t# 진행 상황 요약 \n",
        "\t\tprint('>%d개의 예제를 불러왔습니다. 클래스명: %s' % (len(faces), subdir))\n",
        "\t\t# 저장\n",
        "\t\tX.extend(faces)\n",
        "\t\ty.extend(labels)\n",
        "\t\n",
        "\treturn asarray(X), asarray(y)\n",
        "\n",
        "# 훈련 데이터셋 불러오기\n"
      ],
      "metadata": {
        "id": "8fM8jBtTcHab"
      },
      "execution_count": null,
      "outputs": []
    },
    {
      "cell_type": "code",
      "source": [
        "trainX, trainy = load_dataset('FileName')\n",
        "#trainy = numpy.random.choice(trainy,56, replace=False) \n",
        "print(trainX.shape,trainy.shape)"
      ],
      "metadata": {
        "colab": {
          "base_uri": "https://localhost:8080/"
        },
        "id": "-QTHD_9ocJ5b",
        "outputId": "3382ef21-31f0-4664-b90f-cf24206895e7"
      },
      "execution_count": null,
      "outputs": [
        {
          "output_type": "stream",
          "name": "stdout",
          "text": [
            ">56개의 예제를 불러왔습니다. 클래스명: real\n",
            "맞춰줄 값56\n",
            ">56개의 예제를 불러왔습니다. 클래스명: fake\n",
            "(112, 160, 160, 3) (112,)\n"
          ]
        }
      ]
    },
    {
      "cell_type": "code",
      "source": [
        "testX, testy = load_dataset('FileName/val/')\n",
        "print(testX.shape, testy.shape)"
      ],
      "metadata": {
        "colab": {
          "base_uri": "https://localhost:8080/"
        },
        "id": "7y4ZMF9NgH44",
        "outputId": "eddde60f-1365-4fd7-f002-e97e8be4154b"
      },
      "execution_count": null,
      "outputs": [
        {
          "output_type": "stream",
          "name": "stdout",
          "text": [
            ">20개의 예제를 불러왔습니다. 클래스명: real\n",
            "맞춰줄 값20\n",
            ">20개의 예제를 불러왔습니다. 클래스명: fake\n",
            "(40, 160, 160, 3) (40,)\n"
          ]
        }
      ]
    },
    {
      "cell_type": "code",
      "source": [
        "trainX[:3,:3,:3,:3]"
      ],
      "metadata": {
        "colab": {
          "base_uri": "https://localhost:8080/"
        },
        "id": "NByBar4xgPyu",
        "outputId": "0e8e596c-bd79-4103-d7c6-dfa1de74d606"
      },
      "execution_count": null,
      "outputs": [
        {
          "output_type": "execute_result",
          "data": {
            "text/plain": [
              "array([[[[105, 144, 121],\n",
              "         [102, 129, 110],\n",
              "         [ 87, 105,  87]],\n",
              "\n",
              "        [[ 81, 108,  89],\n",
              "         [ 77,  92,  77],\n",
              "         [ 70,  77,  64]],\n",
              "\n",
              "        [[ 71,  88,  72],\n",
              "         [ 64,  68,  56],\n",
              "         [ 62,  58,  48]]],\n",
              "\n",
              "\n",
              "       [[[182, 224, 190],\n",
              "         [181, 225, 190],\n",
              "         [181, 225, 190]],\n",
              "\n",
              "        [[181, 225, 190],\n",
              "         [181, 225, 190],\n",
              "         [181, 225, 190]],\n",
              "\n",
              "        [[181, 225, 190],\n",
              "         [180, 224, 189],\n",
              "         [180, 224, 189]]],\n",
              "\n",
              "\n",
              "       [[[225, 231, 187],\n",
              "         [225, 231, 188],\n",
              "         [226, 231, 190]],\n",
              "\n",
              "        [[226, 232, 187],\n",
              "         [226, 232, 188],\n",
              "         [226, 231, 190]],\n",
              "\n",
              "        [[226, 232, 189],\n",
              "         [226, 232, 188],\n",
              "         [226, 231, 190]]]], dtype=uint8)"
            ]
          },
          "metadata": {},
          "execution_count": 45
        }
      ]
    },
    {
      "cell_type": "code",
      "source": [
        "trainy[:3,]"
      ],
      "metadata": {
        "colab": {
          "base_uri": "https://localhost:8080/"
        },
        "id": "QAduvCC2hAJz",
        "outputId": "26a3bc56-b87f-46e0-cf0e-128391e5a8a8"
      },
      "execution_count": null,
      "outputs": [
        {
          "output_type": "execute_result",
          "data": {
            "text/plain": [
              "array(['real', 'real', 'real'], dtype='<U4')"
            ]
          },
          "metadata": {},
          "execution_count": 46
        }
      ]
    },
    {
      "cell_type": "code",
      "source": [
        "trainy[56:,] #trainy는 56번째부터 fake로 나눠짐"
      ],
      "metadata": {
        "colab": {
          "base_uri": "https://localhost:8080/"
        },
        "id": "frZNhbFOhLIS",
        "outputId": "cee8a922-d52d-4c52-c2ef-1f583dcc7777"
      },
      "execution_count": null,
      "outputs": [
        {
          "output_type": "execute_result",
          "data": {
            "text/plain": [
              "array(['fake', 'fake', 'fake', 'fake', 'fake', 'fake', 'fake', 'fake',\n",
              "       'fake', 'fake', 'fake', 'fake', 'fake', 'fake', 'fake', 'fake',\n",
              "       'fake', 'fake', 'fake', 'fake', 'fake', 'fake', 'fake', 'fake',\n",
              "       'fake', 'fake', 'fake', 'fake', 'fake', 'fake', 'fake', 'fake',\n",
              "       'fake', 'fake', 'fake', 'fake', 'fake', 'fake', 'fake', 'fake',\n",
              "       'fake', 'fake', 'fake', 'fake', 'fake', 'fake', 'fake', 'fake',\n",
              "       'fake', 'fake', 'fake', 'fake', 'fake', 'fake', 'fake', 'fake'],\n",
              "      dtype='<U4')"
            ]
          },
          "metadata": {},
          "execution_count": 52
        }
      ]
    },
    {
      "cell_type": "code",
      "source": [
        "savez_compressed('FileName/faces-dataset.npz', trainX, trainy, testX, testy)"
      ],
      "metadata": {
        "id": "7wpjXd7Jhn8L"
      },
      "execution_count": null,
      "outputs": []
    },
    {
      "cell_type": "markdown",
      "source": [
        "에러 해결( 어두운 이미지 ) - > 폴더"
      ],
      "metadata": {
        "id": "32RqIXLib_bW"
      }
    },
    {
      "cell_type": "code",
      "source": [
        "errorList"
      ],
      "metadata": {
        "colab": {
          "base_uri": "https://localhost:8080/"
        },
        "id": "PbmEzFSrVkDc",
        "outputId": "7c8260ed-b1c5-43ef-a9ae-8a6ffd9078a3"
      },
      "execution_count": null,
      "outputs": [
        {
          "output_type": "execute_result",
          "data": {
            "text/plain": [
              "[]"
            ]
          },
          "metadata": {},
          "execution_count": 54
        }
      ]
    },
    {
      "cell_type": "code",
      "source": [
        "folder = 'FileName/train_data_set/real/'\n",
        "i = 1\n",
        "errorList = []\n",
        "# 파일 열거\n",
        "for filename in os.listdir(folder):\n",
        "\t# 경로\n",
        "\tpath = folder + filename\n",
        "\t# 얼굴 추출\n",
        "\ttry:\n",
        "\t\tface = extract_face(path)\n",
        "\t\tprint(i, face.shape)\n",
        "\texcept:\n",
        "\t\terrorList.append(filename)\n",
        "\n",
        "\ti += 1"
      ],
      "metadata": {
        "id": "fhGirH0EVr0p",
        "colab": {
          "base_uri": "https://localhost:8080/"
        },
        "outputId": "3259a174-d6ed-4e6e-be50-1d6e84a30e60"
      },
      "execution_count": null,
      "outputs": [
        {
          "output_type": "stream",
          "name": "stdout",
          "text": [
            "1 (160, 160, 3)\n",
            "2 (160, 160, 3)\n",
            "3 (160, 160, 3)\n",
            "4 (160, 160, 3)\n",
            "5 (160, 160, 3)\n",
            "6 (160, 160, 3)\n",
            "7 (160, 160, 3)\n",
            "8 (160, 160, 3)\n",
            "9 (160, 160, 3)\n",
            "10 (160, 160, 3)\n",
            "11 (160, 160, 3)\n",
            "12 (160, 160, 3)\n",
            "13 (160, 160, 3)\n",
            "14 (160, 160, 3)\n",
            "15 (160, 160, 3)\n",
            "16 (160, 160, 3)\n",
            "17 (160, 160, 3)\n",
            "18 (160, 160, 3)\n",
            "19 (160, 160, 3)\n",
            "20 (160, 160, 3)\n",
            "21 (160, 160, 3)\n",
            "22 (160, 160, 3)\n",
            "23 (160, 160, 3)\n",
            "24 (160, 160, 3)\n",
            "25 (160, 160, 3)\n",
            "26 (160, 160, 3)\n",
            "27 (160, 160, 3)\n",
            "28 (160, 160, 3)\n",
            "29 (160, 160, 3)\n",
            "30 (160, 160, 3)\n",
            "31 (160, 160, 3)\n",
            "32 (160, 160, 3)\n",
            "33 (160, 160, 3)\n",
            "34 (160, 160, 3)\n",
            "35 (160, 160, 3)\n",
            "36 (160, 160, 3)\n",
            "37 (160, 160, 3)\n",
            "38 (160, 160, 3)\n",
            "39 (160, 160, 3)\n",
            "40 (160, 160, 3)\n",
            "41 (160, 160, 3)\n",
            "42 (160, 160, 3)\n",
            "43 (160, 160, 3)\n",
            "44 (160, 160, 3)\n",
            "45 (160, 160, 3)\n",
            "46 (160, 160, 3)\n",
            "47 (160, 160, 3)\n",
            "48 (160, 160, 3)\n",
            "49 (160, 160, 3)\n",
            "50 (160, 160, 3)\n",
            "51 (160, 160, 3)\n",
            "52 (160, 160, 3)\n",
            "53 (160, 160, 3)\n",
            "54 (160, 160, 3)\n",
            "55 (160, 160, 3)\n",
            "56 (160, 160, 3)\n"
          ]
        }
      ]
    },
    {
      "cell_type": "code",
      "source": [
        "print(errorList)"
      ],
      "metadata": {
        "colab": {
          "base_uri": "https://localhost:8080/"
        },
        "id": "2MIA-Rx1XIkc",
        "outputId": "d652b92c-f104-411f-ffff-0551a825d757"
      },
      "execution_count": null,
      "outputs": [
        {
          "output_type": "stream",
          "name": "stdout",
          "text": [
            "[]\n"
          ]
        }
      ]
    },
    {
      "cell_type": "markdown",
      "source": [
        "load() 넘파이 함수를 이용해 우리의 감지된 얼굴 데이터셋을 불러오기"
      ],
      "metadata": {
        "id": "-XNKLwIqh7TU"
      }
    },
    {
      "cell_type": "code",
      "source": [
        "#from keras.saving.saved_model.load import load\n",
        "# 얼굴 데이터셋 불러오기\n",
        "data = numpy.load('FileName/faces-dataset.npz')\n",
        "trainX, trainy, testX, testy = data['arr_0'], data['arr_1'], data['arr_2'], data['arr_3']\n",
        "print('불러오기: ', trainX.shape, trainy.shape, testX.shape, testy.shape)"
      ],
      "metadata": {
        "colab": {
          "base_uri": "https://localhost:8080/"
        },
        "id": "AUtB_RIsho7n",
        "outputId": "4b07c13e-3f38-4d17-fb70-15bfdd257176"
      },
      "execution_count": null,
      "outputs": [
        {
          "output_type": "stream",
          "name": "stdout",
          "text": [
            "불러오기:  (112, 160, 160, 3) (112,) (40, 160, 160, 3) (40,)\n"
          ]
        }
      ]
    },
    {
      "cell_type": "markdown",
      "source": [
        "얼굴을 얼굴 임베딩으로 변환할 준비가 된 FaceNet 모델을 불러오기"
      ],
      "metadata": {
        "id": "4fGY0mEzjoLx"
      }
    },
    {
      "cell_type": "code",
      "source": [
        "model = load_model('facenet_keras.h52')\n",
        "print('모델 불러오기')"
      ],
      "metadata": {
        "colab": {
          "base_uri": "https://localhost:8080/"
        },
        "id": "rEooYL6kh6jx",
        "outputId": "4068b014-3474-447c-e538-1495644e3475"
      },
      "execution_count": null,
      "outputs": [
        {
          "output_type": "stream",
          "name": "stdout",
          "text": [
            "WARNING:tensorflow:No training configuration found in the save file, so the model was *not* compiled. Compile it manually.\n",
            "모델 불러오기\n"
          ]
        }
      ]
    },
    {
      "cell_type": "markdown",
      "source": [
        "훈련 및 테스트 데이터셋의 각각의 얼굴을 얼굴 임베딩으로 변환"
      ],
      "metadata": {
        "id": "4PW05nhvj1TO"
      }
    },
    {
      "cell_type": "code",
      "source": [
        "# facenet을 이용해 데이터셋 내 각 얼굴에 대한 얼굴 임베딩 계산\n",
        "from numpy import load\n",
        "from numpy import expand_dims\n",
        "from numpy import asarray\n",
        "from numpy import savez_compressed\n",
        "from keras.models import load_model\n",
        "\n",
        "# 하나의 얼굴의 얼굴 임베딩 얻기\n",
        "def get_embedding(model, face_pixels):\n",
        "\t# 픽셀 값의 척도\n",
        "\tface_pixels = face_pixels.astype('int32')\n",
        "\t# 채널 간 픽셀값 표준화(전역에 걸쳐)\n",
        "\tmean, std = face_pixels.mean(), face_pixels.std()\n",
        "\tface_pixels = (face_pixels - mean) / std\n",
        "\t# 얼굴을 하나의 샘플로 변환\n",
        "\tsamples = expand_dims(face_pixels, axis=0)\n",
        "\t# 임베딩을 갖기 위한 예측 생성\n",
        "\tyhat = model.predict(samples)\n",
        "\treturn yhat[0]\n",
        "\n",
        "# 훈련 셋에서 각 얼굴을 임베딩으로 변환하기\n",
        "newTrainX = list()\n",
        "for face_pixels in trainX:\n",
        "\tembedding = get_embedding(model, face_pixels)\n",
        "\tnewTrainX.append(embedding)\n",
        "newTrainX = asarray(newTrainX)\n",
        "print(newTrainX.shape)\n",
        "# 테스트 셋에서 각 얼굴을 임베딩으로 변환하기\n",
        "newTestX = list()\n",
        "for face_pixels in testX:\n",
        "\tembedding = get_embedding(model, face_pixels)\n",
        "\tnewTestX.append(embedding)\n",
        "newTestX = asarray(newTestX)\n",
        "print(newTestX.shape)\n",
        "# 배열을 하나의 압축 포맷 파일로 저장\n",
        "savez_compressed('/content/drive/MyDrive/휴먼프밍3조/faces-dataset-embeddings.npz', newTrainX, trainy, newTestX, testy)"
      ],
      "metadata": {
        "colab": {
          "base_uri": "https://localhost:8080/"
        },
        "id": "v9Hcparljts0",
        "outputId": "608dc68b-2856-4200-fe05-d91073b6a03f"
      },
      "execution_count": null,
      "outputs": [
        {
          "output_type": "stream",
          "name": "stdout",
          "text": [
            "(112, 128)\n",
            "(40, 128)\n"
          ]
        }
      ]
    },
    {
      "cell_type": "markdown",
      "source": [
        "## 얼굴 분류하기 및 정확도 구하기\n"
      ],
      "metadata": {
        "id": "tRE-cQNlkLL5"
      }
    },
    {
      "cell_type": "code",
      "source": [
        "#얼굴 임베딩 데이터셋을 불러오기 / 얼굴 데이터셋으로 분류기 개발\n",
        "from numpy import load\n",
        "from sklearn.metrics import accuracy_score\n",
        "from sklearn.preprocessing import LabelEncoder\n",
        "from sklearn.preprocessing import Normalizer\n",
        "from sklearn.svm import SVC\n",
        "\n",
        "# 데이터셋 불러오기\n",
        "data = load('/FileName/faces-dataset-embeddings.npz')\n",
        "trainX, trainy, testX, testy = data['arr_0'], data['arr_1'], data['arr_2'], data['arr_3']\n",
        "print('데이터셋: 훈련 %d개, 테스트 %d개' % (trainX.shape[0], testX.shape[0]))\n",
        "\n",
        "\n",
        "# 입력 벡터 일반화\n",
        "in_encoder = Normalizer(norm='l2')\n",
        "trainX = in_encoder.transform(trainX)\n",
        "testX = in_encoder.transform(testX)\n",
        "# 목표 레이블 암호화\n",
        "out_encoder = LabelEncoder()\n",
        "out_encoder.fit(trainy)\n",
        "trainy = out_encoder.transform(trainy)\n",
        "testy = out_encoder.transform(testy)\n",
        "# 모델 맞추기(적합시키기)\n",
        "model = SVC(kernel='linear')\n",
        "model.fit(trainX, trainy)\n",
        "# 추측\n",
        "yhat_train = model.predict(trainX)\n",
        "yhat_test = model.predict(testX)\n",
        "# 정확도 점수\n",
        "score_train = accuracy_score(trainy, yhat_train)\n",
        "score_test = accuracy_score(testy, yhat_test)\n",
        "\n",
        "# 요약\n",
        "print('정확도: 훈련=%.3f, 테스트=%.3f' % (score_train*100, score_test*100))"
      ],
      "metadata": {
        "colab": {
          "base_uri": "https://localhost:8080/"
        },
        "id": "sPjWWLhxjtx-",
        "outputId": "586ea71a-b556-4155-a475-38dbb236b5aa"
      },
      "execution_count": null,
      "outputs": [
        {
          "output_type": "stream",
          "name": "stdout",
          "text": [
            "데이터셋: 훈련 112개, 테스트 40개\n",
            "정확도: 훈련=73.214, 테스트=57.500\n"
          ]
        }
      ]
    },
    {
      "cell_type": "markdown",
      "source": [
        "## 테스트 데이터셋에서 주어진 본 적 없는 사진의 정체성을 예측"
      ],
      "metadata": {
        "id": "vfILBCkYklZl"
      }
    },
    {
      "cell_type": "code",
      "source": [
        "from random import choice\n",
        "from numpy import load\n",
        "from numpy import expand_dims\n",
        "from sklearn.preprocessing import LabelEncoder\n",
        "from sklearn.preprocessing import Normalizer\n",
        "from sklearn.svm import SVC\n",
        "from matplotlib import pyplot\n",
        "\n",
        "# 얼굴 불러오기\n",
        "data = load('FileName/faces-dataset.npz')\n",
        "testX_faces = data['arr_2']\n",
        "# 얼굴 임베딩 불러오기\n",
        "data = load('/FileName/faces-dataset-embeddings.npz')\n",
        "trainX, trainy, testX, testy = data['arr_0'], data['arr_1'], data['arr_2'], data['arr_3']\n",
        "\n",
        "\n",
        "# 입력 벡터 일반화\n",
        "in_encoder = Normalizer(norm='l2')\n",
        "trainX = in_encoder.transform(trainX)\n",
        "testX = in_encoder.transform(testX)\n",
        "# 목표 레이블 암호화\n",
        "out_encoder = LabelEncoder()\n",
        "out_encoder.fit(trainy)\n",
        "trainy = out_encoder.transform(trainy)\n",
        "testy = out_encoder.transform(testy)\n",
        "# 모델 적합\n",
        "model = SVC(kernel='linear', probability=True)\n",
        "model.fit(trainX, trainy)\n",
        "# 테스트 데이터셋에서 임의의 예제에 대한 테스트 모델\n",
        "selection = choice([i for i in range(testX.shape[0])])\n",
        "random_face_pixels = testX_faces[selection]\n",
        "random_face_emb = testX[selection]\n",
        "random_face_class = testy[selection]\n",
        "random_face_name = out_encoder.inverse_transform([random_face_class])\n",
        "# 얼굴 예측\n",
        "samples = expand_dims(random_face_emb, axis=0)\n",
        "yhat_class = model.predict(samples)\n",
        "yhat_prob = model.predict_proba(samples)\n",
        "# 이름 얻기\n",
        "class_index = yhat_class[0]\n",
        "class_probability = yhat_prob[0,class_index] * 100\n",
        "predict_names = out_encoder.inverse_transform(yhat_class)\n",
        "print('예상: %s (%.3f)' % (predict_names[0], class_probability))\n",
        "print('추측(임의의 예제): %s' % random_face_name[0])\n",
        "# 재미삼아 그리기\n",
        "pyplot.imshow(random_face_pixels)\n",
        "title = '%s (%.3f)' % (predict_names[0], class_probability)\n",
        "pyplot.title(title)\n",
        "pyplot.show()"
      ],
      "metadata": {
        "colab": {
          "base_uri": "https://localhost:8080/",
          "height": 318
        },
        "id": "QVBfJm_1jt2z",
        "outputId": "f01b4990-b554-406e-9664-990311331aa7"
      },
      "execution_count": null,
      "outputs": [
        {
          "output_type": "stream",
          "name": "stdout",
          "text": [
            "예상: real (50.810)\n",
            "추측(임의의 예제): fake\n"
          ]
        },
        {
          "output_type": "display_data",
          "data": {
            "text/plain": [
              "<Figure size 432x288 with 1 Axes>"
            ],
            "image/png": "[encoded data removed]"
          },
          "metadata": {
            "needs_background": "light"
          }
        }
      ]
    }
  ]
}